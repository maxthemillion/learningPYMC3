{
 "cells": [
  {
   "cell_type": "markdown",
   "id": "293c4457-86e1-40d4-a4ce-30aee0e8409a",
   "metadata": {},
   "source": [
    "# Hierarchical partial pooling"
   ]
  },
  {
   "cell_type": "markdown",
   "id": "6f376c28-a44c-4dad-965f-b59cddc577aa",
   "metadata": {},
   "source": [
    "Original code and explanations can be found here: https://docs.pymc.io/pymc-examples/examples/case_studies/hierarchical_partial_pooling.html"
   ]
  },
  {
   "cell_type": "code",
   "execution_count": null,
   "id": "34e5636f-bf6a-4035-b21d-c14c8c37c891",
   "metadata": {},
   "outputs": [],
   "source": []
  }
 ],
 "metadata": {
  "kernelspec": {
   "display_name": "Python 3 (ipykernel)",
   "language": "python",
   "name": "python3"
  },
  "language_info": {
   "codemirror_mode": {
    "name": "ipython",
    "version": 3
   },
   "file_extension": ".py",
   "mimetype": "text/x-python",
   "name": "python",
   "nbconvert_exporter": "python",
   "pygments_lexer": "ipython3",
   "version": "3.9.5"
  }
 },
 "nbformat": 4,
 "nbformat_minor": 5
}
