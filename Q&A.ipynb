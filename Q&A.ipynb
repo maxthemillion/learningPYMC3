{
 "cells": [
  {
   "cell_type": "markdown",
   "id": "a4bbc828-aafc-4d23-8725-6c8f5dca9d20",
   "metadata": {},
   "source": [
    "# Q&A on Bayesian Statistics"
   ]
  },
  {
   "cell_type": "markdown",
   "id": "36587134-6a77-41fc-a7db-5e942c3e2764",
   "metadata": {},
   "source": [
    "## Scenarios in which Bayesian Statistics may be able to provide benefit over traditional methods:\n",
    "1. **Bayesian structural time series modeling:**\n",
    "    -  This class of models has a seasonal component, a trend component and external regressors.\n",
    "    - [Inferring causal impact using Bayesian structural time-series models](https://storage.googleapis.com/pub-tools-public-publication-data/pdf/41854.pdf)\n",
    "    - [youtube video on causal impact](https://www.youtube.com/watch?v=GTgZfCltMm8)\n",
    "    - [Timeseers: modelling hierarchical timeseries in PYMC3](https://github.com/MBrouns/timeseers) and [Youtube video](https://www.youtube.com/watch?v=jo12CWZ00Lo&t=1521s)\n",
    "2. **Bayesian time-to-event prediction / reliability analysis / failure prediction**: \n",
    "    - Predictive maintenance\n",
    "    - \n",
    "3. **Risk analysis**\n",
    "    - Risk prediction in the financial sector\n",
    "    - \n",
    "4. **Hierarchical modelling**\n",
    "    - each scenario where data is split in multiple classes and some or all of these categories have only few data"
   ]
  },
  {
   "cell_type": "markdown",
   "id": "0f759ee9-afb3-4f35-bc82-88e093b2acd8",
   "metadata": {},
   "source": [
    "## Basic theory"
   ]
  },
  {
   "cell_type": "markdown",
   "id": "86717ca3-7dc3-460c-b6b4-122086e0cdaa",
   "metadata": {},
   "source": [
    "**generative models**: generative models are capable of simulating predictions. Bayesian models are always generative."
   ]
  },
  {
   "cell_type": "markdown",
   "id": "75ce4655-3fbb-4d19-8e9b-824792569bd9",
   "metadata": {},
   "source": [
    "**likelihood function**: the function that describes the distribution of data in your model. It is the one that links your model to the outcome variable."
   ]
  },
  {
   "cell_type": "markdown",
   "id": "48ce6a0d-c416-48f4-b411-97b9c7b35777",
   "metadata": {},
   "source": [
    "**link function**: A function that transforms a parameter of your model to some bounded space. Eg. when choosing a Binomial likelihood function, you need to model parameter $p$, the probability of an event happening. A probability needs to lie between 0 and 1. Attaching a linear model to $p$ is common and it then requires to be transformed via a logit link function. The two most common link functions are:\n",
    "\n",
    "- logit link: transforms a scale to another scale which is defined between 0 and 1\n",
    "- log link: transforms a parameter that is defined on positive real values to a linear model"
   ]
  },
  {
   "cell_type": "markdown",
   "id": "6ef1dff2-2533-4291-b065-8f51734b38c6",
   "metadata": {},
   "source": [
    "**conjugate priors**: given a particular likelihood function, a conjugate prior is one that allows to compute an analytical solution for parameters. \n",
    "For the case of a bernoulli, binomial, negative binomial and geometric likelihood function the beta distribution is the conjugate prior. "
   ]
  },
  {
   "cell_type": "markdown",
   "id": "db7f2191-5f39-44d4-920c-a16492179ea7",
   "metadata": {},
   "source": [
    "**Intervals**\n",
    "- **Credible** or **compatibility interval**: An interval of posterior probability, which may take the form of a Percentile Interval or of an HPDI.\n",
    "- **HPDI**:  The **H**ighest **P**osterior **D**ensity **I**nterval is the narrowest interval that covers the specified probability mass on the posterior distribution. As such it is a subtype of the compatibility interval.\n",
    "- **HDI**: **H**ighest **D**ensity **I**nterval. See HPDI. [arviz terminology](https://arviz-devs.github.io/arviz/api/generated/arviz.hdi.html?highlight=hdi#arviz.hdi): \"Minimum width Bayesian Credible Interval\"\n"
   ]
  },
  {
   "cell_type": "markdown",
   "id": "ccdf8997-f8b8-4336-ac40-53f2e9274332",
   "metadata": {},
   "source": [
    "**rhat**"
   ]
  },
  {
   "cell_type": "markdown",
   "id": "616b86a4-2d96-40f9-a3e6-d6fe85337060",
   "metadata": {},
   "source": [
    "**sort these terms:**\n",
    "- **odds**: Probability of an event divided by the probability of the event not occurring $p / (1-p)$\n",
    "- **logit** or **log-odds**: A nonlinear probability function: $logit(p) = log(p / (1-p))$. It's the logarithm of the odds of the occurence of an event\n",
    "- **logistic transformation** or **inverse-logit**: a transformation where a linear scale is transformed to  probabilities between 0 and 1: $y = e^x / (1 + e^x)$ Its the inverse of logits. See [APA](https://dictionary.apa.org/logistic-transformation)\n",
    "- **log-probability**: $log(p)$\n",
    "- **likelihood**\n",
    "- **log-likelihood**"
   ]
  },
  {
   "cell_type": "markdown",
   "id": "e21b9b40-98dd-40bd-a3e6-298174a3594b",
   "metadata": {},
   "source": [
    "## Evaluating model fit and predictive accuracy"
   ]
  },
  {
   "cell_type": "markdown",
   "id": "8499206b-df7c-44b7-a888-c4142a7ace4c",
   "metadata": {},
   "source": [
    "**Information Entropy**: Given there are $I$  possible events each with probability $p_i$, then the uncertainty contained in the probability distribution is the average log-probability of the events:  \n",
    "$H(p) = -E log(p_i) = - \\sum\\limits_i^n p_i log(p_i)$  \n",
    "Example:   \n",
    "Weather in Munich (Summer): $p_{rain}=0.3$ and $p_{sun}=0.7$, then $H(p) =0.61$  \n",
    "Weather in Abu Dhabi: $p_{rain}=0.01$ and $p_{sun}=0.99$, then $H(p) =0.06$  \n",
    "Weather in Munich (Winter): $p_{rain}=0.15$ and $p_{sun}=0.7$ and $p_{snow}=0.15$ then $H(p) =0.82$\n",
    "\n",
    "So information entropy is a measure for the uncertainty of a probability distribution"
   ]
  },
  {
   "cell_type": "markdown",
   "id": "f797a12b-a19f-4740-bb58-6bb1b06a409e",
   "metadata": {},
   "source": [
    "**KL Divergence**: Is the additional uncertainty induced by using probabilities from one distribution to describe another distribution. KL stands for Kullback-Leibler after the people who introduced it. It is defined as \n",
    "\n",
    "$D_{KL}(p, q) = \\sum\\limits_i p_i(log(p_i) - log(q_i)) = \\sum\\limits_i p_i log(p_i / q_i)$  \n",
    "where $p_i$ is the true probability of an event and $q_i$ is the probability that we assume is true. The KL Divergence is the difference between the entropy of the target distribution $p$ and the cross entropy arising from using $q$ to predict $p$. If $q = p$ then $D_{KL} = 0$. In other words, divergence measures how far our assumed distribution $q$ is from the true target $p$ in units of entropy.  \n",
    "The difficulty is that $p$ is unknown, so we cannot calculate divergence directly. But we can contrast different approximations to $p$. And we do this by calculating the difference in entropies of models."
   ]
  },
  {
   "cell_type": "markdown",
   "id": "e95baad6-42c2-44e8-a57f-f7ed70d86d04",
   "metadata": {},
   "source": [
    "**Deviance**: We calculate the log-probability score of a model like so:\n",
    "\n",
    "$S(q) = \\sum\\limits_i log(q_i)$  \n",
    "which is an estimation of $E log(q_i)$. In a Bayesian context, we need to compute this on the full posterior, which leads to the **Log-pointwise-predictive-density**. The LPPD can be summed up to the log-probability score. Then we can compare models by the deviance:  \n",
    "\n",
    "$S(q)-S(r)$. "
   ]
  },
  {
   "cell_type": "markdown",
   "id": "96091377-4dbd-4c6e-bb96-fc463ec8e629",
   "metadata": {},
   "source": [
    "## Predicting predictive accuracy"
   ]
  },
  {
   "cell_type": "markdown",
   "id": "3719ad5b-9a6d-48b2-894c-c55164b05b50",
   "metadata": {},
   "source": [
    "**Cross Validation**"
   ]
  },
  {
   "cell_type": "markdown",
   "id": "19f3feb1-d13e-4c21-9971-d4baeb678b28",
   "metadata": {},
   "source": [
    "**Information Criteria**\n",
    "- **WAIC**: the **W**idely **A**pplicable **I**nformation **C**riterion tries to predict the **out-of-sample-KL-divergence**. It is a more general information criterion than the AIC and the BIC. It is basically the log-probability (log-pointwise-predictive-density) of a model corrected by a penalty."
   ]
  },
  {
   "cell_type": "markdown",
   "id": "8c14b175-8922-4bb2-a870-9b7b83a9a423",
   "metadata": {},
   "source": [
    "## Sampling"
   ]
  },
  {
   "attachments": {
    "4bc6c0b7-f530-403c-9df6-b901630cdd0a.png": {
     "image/png": "[encoded data removed]"
    }
   },
   "cell_type": "markdown",
   "id": "629d58b3-5fa2-41a0-98d1-7e63a892abc2",
   "metadata": {},
   "source": [
    "**Interpreting Model Output** What do the following columns mean?  \n",
    "\n",
    "![image.png](attachment:4bc6c0b7-f530-403c-9df6-b901630cdd0a.png)"
   ]
  },
  {
   "cell_type": "markdown",
   "id": "9ab8c6b6-e1a7-4c57-8181-132789a07e55",
   "metadata": {},
   "source": [
    "**Target Acceptance Rate**:"
   ]
  },
  {
   "cell_type": "markdown",
   "id": "d2ebd010-be7f-4bb2-8cc0-63f401d366ad",
   "metadata": {},
   "source": [
    "**What is the relation between MCMC and NUTS**:"
   ]
  }
 ],
 "metadata": {
  "kernelspec": {
   "display_name": "Python 3 (ipykernel)",
   "language": "python",
   "name": "python3"
  },
  "language_info": {
   "codemirror_mode": {
    "name": "ipython",
    "version": 3
   },
   "file_extension": ".py",
   "mimetype": "text/x-python",
   "name": "python",
   "nbconvert_exporter": "python",
   "pygments_lexer": "ipython3",
   "version": "3.9.5"
  }
 },
 "nbformat": 4,
 "nbformat_minor": 5
}
